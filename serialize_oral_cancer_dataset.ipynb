{
  "nbformat": 4,
  "nbformat_minor": 0,
  "metadata": {
    "colab": {
      "name": "serialize_oral_cancer_dataset.ipynb",
      "provenance": [],
      "collapsed_sections": [],
      "toc_visible": true
    },
    "kernelspec": {
      "name": "python3",
      "display_name": "Python 3"
    }
  },
  "cells": [
    {
      "cell_type": "code",
      "metadata": {
        "id": "QnoaAS_XmA9h"
      },
      "source": [
        "from google.colab import drive\n",
        "drive.mount('/content/drive', force_remount=True)"
      ],
      "execution_count": null,
      "outputs": []
    },
    {
      "cell_type": "markdown",
      "metadata": {
        "id": "xvKDeBJ3mJLZ"
      },
      "source": [
        "## **[TFRecord and tf.Example](https://www.tensorflow.org/tutorials/load_data/tfrecord#fetch_the_images)**"
      ]
    },
    {
      "cell_type": "code",
      "metadata": {
        "id": "IbTQsZE2e-Xo",
        "colab": {
          "base_uri": "https://localhost:8080/",
          "height": 51
        },
        "outputId": "60281082-d74f-4e14-c899-39d3f552cf78"
      },
      "source": [
        "from __future__ import absolute_import, division, print_function, unicode_literals\n",
        "\n",
        "%tensorflow_version 2.x\n",
        "import tensorflow as tf\n",
        "print(\"Num GPUs Available: \", len(tf.config.experimental.list_physical_devices('GPU')))\n",
        "device_name = tf.test.gpu_device_name()\n",
        "if device_name != '/device:GPU:0':\n",
        "  print('GPU device not found')\n",
        "else:\n",
        "  print('Found GPU at: {}'.format(device_name))\n",
        "\n",
        "AUTOTUNE = tf.data.experimental.AUTOTUNE\n",
        "\n",
        "from PIL import Image\n",
        "import numpy as np\n",
        "import matplotlib.pyplot as plt\n",
        "import os"
      ],
      "execution_count": null,
      "outputs": [
        {
          "output_type": "stream",
          "text": [
            "Num GPUs Available:  0\n",
            "GPU device not found\n"
          ],
          "name": "stdout"
        }
      ]
    },
    {
      "cell_type": "code",
      "metadata": {
        "id": "7TJKBIxJfKDG"
      },
      "source": [
        "import pathlib\n",
        "project_dir = \"/content/drive/My Drive/master_uppsala/p3_computer-assisted_image_analysis_2_project/\"\n",
        "oral_cancer_dataset_dir = project_dir + \"OralCancer_DataSet3/\"\n",
        "train_dir = pathlib.Path(oral_cancer_dataset_dir + \"train/\")\n",
        "test_dir = pathlib.Path(oral_cancer_dataset_dir + \"test/\")\n",
        "\n",
        "CLASS_NAMES = np.array([item.name for item in train_dir.glob('*')])\n",
        "total_train = 73303  # len(list(train_dir.glob('*/*/*.jpg')))  # 73303\n",
        "total_test = 55514  # len(list(test_dir.glob('*/*/*.jpg')))  # 55514\n",
        "\n",
        "BATCH_SIZE = 128\n",
        "epochs = 30\n",
        "IMG_HEIGHT = 80\n",
        "IMG_WIDTH = 80\n",
        "\n",
        "# from IPython.display import display\n",
        "# image_example_dir = str(list(train_dir.glob('Cancer/000/*.jpg'))[0])\n",
        "# display(Image.open(image_example_dir))"
      ],
      "execution_count": null,
      "outputs": []
    },
    {
      "cell_type": "markdown",
      "metadata": {
        "id": "YHKsbtmkmDpv"
      },
      "source": [
        "## **Fetch the images**"
      ]
    },
    {
      "cell_type": "code",
      "metadata": {
        "id": "n4fpEfG0fWh3"
      },
      "source": [
        "train_list_ds = tf.data.Dataset.list_files(str(train_dir/'*/*/*'))\n",
        "test_list_ds = tf.data.Dataset.list_files(str(test_dir/'*/*/*'))\n",
        "# for f in train_list_ds.take(5):\n",
        "#   print(f.numpy())\n",
        "\n",
        "def process_path(file_path):\n",
        "\n",
        "  def get_label(file_path):\n",
        "    parts = tf.strings.split(file_path, os.path.sep)  # convert the path to a list of path components\n",
        "    return int(parts[-3] == CLASS_NAMES[0]) # The third to last is the class-directory\n",
        "\n",
        "  label = get_label(file_path)\n",
        "  img = tf.io.read_file(file_path)  # load the raw data from the file as a string\n",
        "  # img = decode_img(img)\n",
        "  return img, label\n",
        "\n",
        "# Set `num_parallel_calls` so multiple images are loaded/processed in parallel.\n",
        "train_labeled_ds = train_list_ds.map(process_path, num_parallel_calls=AUTOTUNE)  # 22:15 ~\n",
        "test_labeled_ds = test_list_ds.map(process_path, num_parallel_calls=AUTOTUNE)\n",
        "\n",
        "# for image, label in train_labeled_ds.take(1):\n",
        "#   print(\"Image shape: \", image.numpy().shape)\n",
        "#   print(\"Label: \", label.numpy())"
      ],
      "execution_count": null,
      "outputs": []
    },
    {
      "cell_type": "markdown",
      "metadata": {
        "id": "l9ypeYLBl-s0"
      },
      "source": [
        "## **Write the TFRecord file**"
      ]
    },
    {
      "cell_type": "code",
      "metadata": {
        "id": "EQfEmhecfcnp"
      },
      "source": [
        "def image_example(image_string, label):\n",
        "  def _bytes_feature(value):\n",
        "    \"\"\"Returns a bytes_list from a string / byte.\"\"\"\n",
        "    if isinstance(value, type(tf.constant(0))):\n",
        "      value = value.numpy() # BytesList won't unpack a string from an EagerTensor.\n",
        "    return tf.train.Feature(bytes_list=tf.train.BytesList(value=[value]))\n",
        "\n",
        "  def _int64_feature(value):\n",
        "    \"\"\"Returns an int64_list from a bool / enum / int / uint.\"\"\"\n",
        "    return tf.train.Feature(int64_list=tf.train.Int64List(value=[value]))\n",
        "  \n",
        "  feature = {\n",
        "      'label': _int64_feature(label),\n",
        "      'image_raw': _bytes_feature(image_string)}\n",
        "  return tf.train.Example(features=tf.train.Features(feature=feature))\n",
        "\n",
        "# Write the raw image files to `images.tfrecords`.\n",
        "# First, process the two images into `tf.Example` messages.\n",
        "# Then, write to a `.tfrecords` file.\n",
        "print(\"Starting writing data...\")\n",
        "i = 0\n",
        "train_record_file = oral_cancer_dataset_dir + 'train_images.tfrecords'\n",
        "test_record_file = oral_cancer_dataset_dir + 'test_images.tfrecords'\n",
        "with tf.io.TFRecordWriter(train_record_file) as writer:\n",
        "  for (image_string, label) in train_labeled_ds:\n",
        "    tf_example = image_example(image_string, label)\n",
        "    writer.write(tf_example.SerializeToString())\n",
        "    if i % 1000 == 0:\n",
        "      print(i)\n",
        "    i += 1\n",
        "with tf.io.TFRecordWriter(test_record_file) as writer:\n",
        "  for (image_string, label) in test_labeled_ds:\n",
        "    tf_example = image_example(image_string, label)\n",
        "    writer.write(tf_example.SerializeToString())\n",
        "    if i % 1000 == 0:\n",
        "      print(i)\n",
        "    i += 1"
      ],
      "execution_count": null,
      "outputs": []
    },
    {
      "cell_type": "markdown",
      "metadata": {
        "id": "lB6Hj7kblwGO"
      },
      "source": [
        "## **Read the TFRecord file**"
      ]
    },
    {
      "cell_type": "code",
      "metadata": {
        "id": "FCUH8mVhhnIx"
      },
      "source": [
        "oral_cancer_dataset_dir = \"/content/drive/My Drive/master_uppsala/p3_computer-assisted_image_analysis_2_project/OralCancer_DataSet3/\"\n",
        "## train_record_file = oral_cancer_dataset_dir + 'train_images.tfrecords'\n",
        "test_record_file = oral_cancer_dataset_dir + 'test_images.tfrecords'\n",
        "\n",
        "## train_image_dataset = tf.data.TFRecordDataset(train_record_file)\n",
        "test_image_dataset = tf.data.TFRecordDataset(test_record_file)\n",
        "# Create a dictionary describing the features.\n",
        "image_feature_description = {\n",
        "    'label': tf.io.FixedLenFeature([], tf.int64),\n",
        "    'image_raw': tf.io.FixedLenFeature([], tf.string),\n",
        "}\n",
        "\n",
        "def _parse_image_function(example_proto):\n",
        "  # Parse the input tf.Example proto using the dictionary above.\n",
        "  return tf.io.parse_single_example(example_proto, image_feature_description)\n",
        "\n",
        "## train_ds = train_image_dataset.map(_parse_image_function)\n",
        "test_ds = test_image_dataset.map(_parse_image_function)"
      ],
      "execution_count": null,
      "outputs": []
    },
    {
      "cell_type": "code",
      "metadata": {
        "id": "yneQ9tPdjhhb",
        "colab": {
          "base_uri": "https://localhost:8080/",
          "height": 151
        },
        "outputId": "4cdf50f7-c5d6-4eff-c514-985326b14f85"
      },
      "source": [
        "# Example\n",
        "import IPython.display as display\n",
        "\n",
        "def decode_img(img):\n",
        "  img = tf.image.decode_jpeg(img, channels=3)  # convert the compressed string to a 3D uint8 tensor\n",
        "  return tf.image.convert_image_dtype(img, tf.float32)  # Use `convert_image_dtype` to convert to floats in the [0,1] range.\n",
        "\n",
        "for a in test_ds.take(1):\n",
        "  print(a['image_raw'])\n",
        "  raw_image = a['image_raw'].numpy()\n",
        "  label = a['label'].numpy()\n",
        "  print(label)\n",
        "  # print(decode_img(raw_image))\n",
        "  display.display(display.Image(raw_image))"
      ],
      "execution_count": null,
      "outputs": [
        {
          "output_type": "stream",
          "text": [
            "tf.Tensor(b'\\xff\\xd8\\xff\\xe0\\x00\\x10JFIF\\x00\\x01\\x01\\x00\\x00\\x01\\x00\\x01\\x00\\x00\\xff\\xdb\\x00C\\x00\\x01\\x01\\x01\\x01\\x01\\x01\\x01\\x01\\x01\\x01\\x01\\x01\\x01\\x01\\x01\\x01\\x01\\x01\\x01\\x01\\x01\\x01\\x01\\x01\\x01\\x01\\x01\\x01\\x01\\x01\\x01\\x01\\x01\\x01\\x01\\x01\\x01\\x01\\x01\\x01\\x01\\x01\\x01\\x01\\x01\\x01\\x01\\x01\\x01\\x01\\x01\\x01\\x01\\x01\\x01\\x01\\x01\\x01\\x01\\x01\\x01\\x01\\x01\\x01\\xff\\xdb\\x00C\\x01\\x01\\x01\\x01\\x01\\x01\\x01\\x01\\x01\\x01\\x01\\x01\\x01\\x01\\x01\\x01\\x01\\x01\\x01\\x01\\x01\\x01\\x01\\x01\\x01\\x01\\x01\\x01\\x01\\x01\\x01\\x01\\x01\\x01\\x01\\x01\\x01\\x01\\x01\\x01\\x01\\x01\\x01\\x01\\x01\\x01\\x01\\x01\\x01\\x01\\x01\\x01\\x01\\x01\\x01\\x01\\x01\\x01\\x01\\x01\\x01\\x01\\x01\\x01\\x01\\xff\\xc0\\x00\\x11\\x08\\x00P\\x00P\\x03\\x01\"\\x00\\x02\\x11\\x01\\x03\\x11\\x01\\xff\\xc4\\x00\\x1f\\x00\\x00\\x01\\x05\\x01\\x01\\x01\\x01\\x01\\x01\\x00\\x00\\x00\\x00\\x00\\x00\\x00\\x00\\x01\\x02\\x03\\x04\\x05\\x06\\x07\\x08\\t\\n\\x0b\\xff\\xc4\\x00\\xb5\\x10\\x00\\x02\\x01\\x03\\x03\\x02\\x04\\x03\\x05\\x05\\x04\\x04\\x00\\x00\\x01}\\x01\\x02\\x03\\x00\\x04\\x11\\x05\\x12!1A\\x06\\x13Qa\\x07\"q\\x142\\x81\\x91\\xa1\\x08#B\\xb1\\xc1\\x15R\\xd1\\xf0$3br\\x82\\t\\n\\x16\\x17\\x18\\x19\\x1a%&\\'()*456789:CDEFGHIJSTUVWXYZcdefghijstuvwxyz\\x83\\x84\\x85\\x86\\x87\\x88\\x89\\x8a\\x92\\x93\\x94\\x95\\x96\\x97\\x98\\x99\\x9a\\xa2\\xa3\\xa4\\xa5\\xa6\\xa7\\xa8\\xa9\\xaa\\xb2\\xb3\\xb4\\xb5\\xb6\\xb7\\xb8\\xb9\\xba\\xc2\\xc3\\xc4\\xc5\\xc6\\xc7\\xc8\\xc9\\xca\\xd2\\xd3\\xd4\\xd5\\xd6\\xd7\\xd8\\xd9\\xda\\xe1\\xe2\\xe3\\xe4\\xe5\\xe6\\xe7\\xe8\\xe9\\xea\\xf1\\xf2\\xf3\\xf4\\xf5\\xf6\\xf7\\xf8\\xf9\\xfa\\xff\\xc4\\x00\\x1f\\x01\\x00\\x03\\x01\\x01\\x01\\x01\\x01\\x01\\x01\\x01\\x01\\x00\\x00\\x00\\x00\\x00\\x00\\x01\\x02\\x03\\x04\\x05\\x06\\x07\\x08\\t\\n\\x0b\\xff\\xc4\\x00\\xb5\\x11\\x00\\x02\\x01\\x02\\x04\\x04\\x03\\x04\\x07\\x05\\x04\\x04\\x00\\x01\\x02w\\x00\\x01\\x02\\x03\\x11\\x04\\x05!1\\x06\\x12AQ\\x07aq\\x13\"2\\x81\\x08\\x14B\\x91\\xa1\\xb1\\xc1\\t#3R\\xf0\\x15br\\xd1\\n\\x16$4\\xe1%\\xf1\\x17\\x18\\x19\\x1a&\\'()*56789:CDEFGHIJSTUVWXYZcdefghijstuvwxyz\\x82\\x83\\x84\\x85\\x86\\x87\\x88\\x89\\x8a\\x92\\x93\\x94\\x95\\x96\\x97\\x98\\x99\\x9a\\xa2\\xa3\\xa4\\xa5\\xa6\\xa7\\xa8\\xa9\\xaa\\xb2\\xb3\\xb4\\xb5\\xb6\\xb7\\xb8\\xb9\\xba\\xc2\\xc3\\xc4\\xc5\\xc6\\xc7\\xc8\\xc9\\xca\\xd2\\xd3\\xd4\\xd5\\xd6\\xd7\\xd8\\xd9\\xda\\xe2\\xe3\\xe4\\xe5\\xe6\\xe7\\xe8\\xe9\\xea\\xf2\\xf3\\xf4\\xf5\\xf6\\xf7\\xf8\\xf9\\xfa\\xff\\xda\\x00\\x0c\\x03\\x01\\x00\\x02\\x11\\x03\\x11\\x00?\\x00\\xf0\\xdb\\xbb\\xe9WL\\xbd\\xd34\\xd8 \\x9ax\\x91\\xae^w*\\xa5cVb\\xe62~i0\\xa0\\xe1\\x01;\\xf8R\\xa4\\x1a\\xc8\\xd2\\x92\\xea;hu\\x10\\x83\\xc9.Rl>\\xc7\\x12g\\x19\\n\\n\\xe5A\\xe7o9\\x1e\\xb9\\xe6\\rj\\xd0\\xdb}\\x84\\xc1\\xe7\\x0f+\\x0f<\\xeaNF\\x1b~\\xd2r7*vBq\\x9e\\xddq\\r\\xad\\xed\\xa1h\\xd2\\xf2w\\xb7\\x82\\'\\x068\\x9d\\xc0[\\x8b\\x82G\\x97\\xbd3\\x85V\\x93nX\\x8f\\x94\\x1c\\x8fo\\xdf\\xe3\\x83\\x95D\\xe4\\xa4\\xa3\\x0b\\xb9r\\xf4\\x8e\\x89\\xb4\\x9f\\x93Wm\\xeb\\xab\\xb6\\xda\\x7f\\x04N\\xbc\\xdb\\x93\\x849\\xe9\\xce|\\xd2i9\\xd4\\xe5\\x8aQ\\xb4R\\xb7*j\\xefM\\x17eft\\xaaR\\xf6\\x19\\xe0V_\\xb6\\xc6w@\\xf8\\x1bC\\xb8\\xfd\\xd8l\\x0e>b\\xb9\\xfcx\\xcdJ\\xf7w1G\\x0b\\xea\\xac\\xd24Q\\x943<\\xcc\\xc4\\xa4c*\\xaa]\\x98\\x95R\\x0e\\xd4\\xe4\\x03\\xd0\\x0ek\"\\xe2\\xfe\\xc6\\xc6\\xdeiY\\xa1\\x82A*O\\x98\\x9dC\\xbcq\\x9d\\xc7%0X\\xed\\x18\\x03?\\x80\\xe9^S\\xe2O\\x1e-\\xd5\\xe0\\xb6\\x8efk]\\xbb\\x94\\xa8\\'k\\'\\'\\x03=\\xf0w\\x00pFx5\\x8ci>g\\xcbW\\x9eQVj-\\xa7k-.\\xac\\x9f~\\x9e]\\x87B3\\x93\\xa98&\\xe1\\xa4\\xa3\\xce\\xac\\xe2\\xf4V\\xbd\\xad\\xd7\\xde]Z=\\x81<A\\r\\xe4\\xd1[F\\x03\\xc1\\x08-3\\xb1\\x19\\x90\\x03\\x90\\xae\\xc4d\\xf1\\x9c\\x068\\\\\\x8ep+\\x95\\xbc\\xd6c\\x86\\xfat\\x1f0\\xc3M\\x0eW\\xe5\\xb7\\xf2\\xc1b\\xc3\\xb1\\x0b\\x8c\\xb2\\x8e\\x08\\xf9q\\xcek\\xcet\\xef\\x10\\xc3n>\\xce\\xd7\\x04\\x8b\\xb8\\xe4\\xcc\\xacHe\\x0e\\x18c$\\x83\\x81\\x9e\\x06q\\xd4\\xf4\\xa9n\\xee\\xfe\\xd3\\xa5\\xbbG\\xa9D\\xb71Bc\\x88\\xe3{\\x93!(\\xbb\\xcf\\x05\\xc1$n\\x07\\x86_\\x94\\x82+\\xba\\x18T\\xe8\\xd3\\x8b\\x8b\\xbf:\\x92\\x95\\x93q\\x85\\xe3\\xa4\\x9b\\xea\\xdb\\xdb\\xaa~v6\\xa79\\xc1\\xc9K\\xe1n6\\xd3I]\\xaed\\xfa\\xdb\\xbd\\x95\\xfdnd\\xdb\\xf8\\x96{\\x8f\\x14N\\xf7\\x17F\\x01\\x19\\xf2\\xc5\\xc4\\xb1\\x90\\x92n8Q\\xe67\\xf0\\x8e;\\xe1G9\\x1d+/\\xe2g\\x85,u{\\xa8\\xe6\\xb4\\xba\\xfbM\\xd6\\xc8^_+\\xe6\\x00\\xbe1\\xd3$\\xe0\\x9e\\xde\\x9d\\xfa\\xd3\\xaf\\xa0\\xd4\\xe7\\xd1\\xee-\\xee\\xb4\\xc7k\\x8b\\x88Q\\xad\\xefa\\x83- \\x04\\xae\\xe1\\x80O\\xcd\\xecFz\\x1e\\xf5\\xd2\\xf8WK\\xbe\\x82\\xca\\tu;\\x1b\\x88\\xa6\\x98\\xa8\\x8e\\xe2h\\xc9wX\\xc8\\nHm\\xcc\\x02\\xf6\\x1d\\x07\\xb1\\xad\\xa9Jx*\\x93\\xa9\\n\\x9c\\xcet\\xdb\\x959l\\x94\\x1a\\xe4zj\\xed\\x7f/#\\xd3\\xc1\\xe2\\xa7\\x85\\xac\\xb1xw\\x18U\\x87\\xee\\xe3\\x1d\\xe1i\\xd9&\\x9d\\xb6O}{\\xdcw\\xc1o\\x84\\x97\\x17Z\\xfc\\x13F\\xe6D\\xb5\\x0b,\\x85\\x94\\xc2 m\\xca\\xcc\\xe5\\x88Rv\\xe3-\\x83\\x92\\x01\\xceA\\xc5}\\xd1{%\\x9c0\\xe2D\\xb6\\xb7\\xfb\\x08\\x820\\xab\\x1a\\xca.\\xfc\\xac\\x06\\x8dN\\xdc+M\\xb4\\xa6\\xf3\\xc8-\\x92z\\xd7\\x0f\\xe0]1,\\xa3\\xb1kk\\xaf\\xb3\\xcd}m!\\xba\\x00\\x96f`\\xa7bm\\x18*_\\x85\\x19\\xc6\\x0e;\\x1e=\\x1fK\\xb4\\x8bP\\x86\\xfa\\xdeD\\xf2\\xa7\\x84\\xc8\\xe7\\xceO1n\\x82\\x86;0\\xdb\\x80\\xf30Wv8,\\t\\xed^\\x0e\\'\\x1b*\\xf8\\x85:\\x95-\\xcd\\xee\\xf2\\xec\\x92m-\\xb7\\xbd\\xfd\\xefO\\xc6\\xb1\\x18\\xca\\xd8\\xca\\x8e\\xadT\\xeaU\\x8c\\xe2\\xa5\\xc8\\x9a\\x8b\\xd5E\\xa5+\\xd9\\xfa-R\\xd7k\\x9f\\x1ej\\x9e7I4\\xdb\\x88\\xa0h\\xfc\\xf3 \\t\\xe7\\x00\\xa8cn;\\xe0\\x06\\xc1\\xeb\\xdb>\\xb5\\xe7\\xf7\\xf7\\xbfn\\xba2\\x00\\xb2H\\xc9\\x1b\\x15\\x00\\x08\\x94\\xa6\\t \\xfd\\xd23\\x9c\\xfa\\xfd+\\x98\\xd4\\xec\\xe4\\xbb\\xb5\\x9a\\xcek\\xd1\\x05\\xcf\\x9a\\\\y\\x84\\xaby`\\x9e\\xa79\\x00\\x0e\\xa0q\\x8f\\xadd\\xe97\\xd7j\\xf0[\\\\\\xde\\xc0R\\x19D`#\\x80\\xd2.\\xe0>l\\x1er8\\xe7 \\xe7\\xd0`\\xfd\\n\\xa95\\x86i\\xd3\\xe7\\xe5\\x8bM&\\x95\\x9c\\x92Qo\\xab\\xf3}\\xd5\\xb58)\\xd0xYNT9\\xad;\\xa9\\'\\x16\\xef\\x19$\\xdbM\\xdbg\\xa6\\x8d={\\x1dg\\x885Qen\\xd3\\xcd \\x11A\\t\\x12\\x1f38\\xca\\x93\\xb4\\r\\xdc\\xe3\\x1f*\\x81\\x9f\\xc2\\xbey\\xd4\\xfe#\\xe9\\xfa|\\xf3m\\xb9Wr\\xe4\\xae\\xf7\\xf9\\x94g\\xa2\\x82\\x7f@\\x08\\'#\\xeb\\xd5\\xfcZ\\xd4n-\\xd6\\xe5\\xad\\n&\\x9f\\xe4,\\xb9G\\x00<\\xd1FX\\xae\\xd5\\xe0\\xb1#\\x8e2O\\xb7\\x15\\xf9\\xa1\\xe2_\\x12jR\\xeb2\\xcb=\\xd3\\xa0K\\x96\\xf2\\xd3s\\x00B\\xbeWr\\x92\\x063\\xc1\\x04\\x11\\xd8qU\\x1c<f\\xd5d\\xec\\xf9i\\xa6\\xa3d\\x92\\x92\\x8b~\\xea[\\xdf\\xf0\\xbd\\xf7>\\x9f\\x85x~\\xaex\\xab\\xa9N0\\x85&\\xac\\xa3\\xa4\\x9d\\xf9Z\\xba\\xde\\xc9\\xee\\x9f\\xce\\xe7\\xdd\\xbe\"\\xf8\\x88\\xf1\\xdb\\xda\\xddKs\\xf6H\\xda2\\x91\\xace<\\xe9\\x1aA\\x84\\xe1He\\xe4\\x81\\x9e\\xdd{U\\x1f\\r|S\\xbe\\x86\\xec#;\\\\\\xc4^6Q0V\\xca\\xab\\x86\\n\\xc5\\xcb\\x10\\xbcg=\\x07\\'\\x04\\xf3_\\x1b\\xc5\\xa8\\xea\\xda\\xb4V\\x93\\xdc\\xddI7\\x942\\x01\\xf9\\x98\\xc7\\x1e\\x18\\xe4\\xe4\\x90\\xa0/\\x07<`\\x102+\\xd1\\xf4\\x89\\x19oc\\x11\\xbc\\x8a\\xaf\\x1cK\\x90\\t!\\xdf\\x03hc\\xd0\\xe4\\xf0r99\\xe9\\x9a\\xf4\\xa9a\\xbd\\xaaq\\x8f\\xc3\\x1a^\\xfa\\xbaI\\xd9\\xc7w\\xdf]\\x97\\xe7s\\xee(\\xf0~\\x1a\\x95\\x19\\xd2\\xafF\\x15j$\\xdc\\x9b\\xba\\x8a\\xbbV\\xb4\\xb7Zk\\xa6\\x9f~\\x9f\\xad\\x1f\\x0e>!i\\x1e$\\xb7\\xb3rm\\xda{Q\\x12=\\xab\\x94v]\\x8c\\t\\xda\\xac\\x08\\n0~P01\\xd39\\xcf\\xb0&\\xbd\\xa4j:\\x90\\xb3\\xb8\\x96\\xdcGl\\x9ed\\x9b\\x15\\x02\\xa2\\xfd\\xed\\xb0\\x000\\x88\\x06\\xef0 \\x01\\x94\\x10\\xc3\\xa8\\x1f\\x93\\xfe\\x0f\\xf1u\\xdf\\x84\\xb5\\xbb[\\x9bd\\xbb\\x06\\x16\\x89n\\xc3\\x02c\\x92\\'u\\xdcX\\x83\\x83\\xf2\\xe7\\x04\\x83\\x8a\\xfa\\xef\\xc5\\x8d\\xaa\\xe8\\x9a\\r\\xbe\\xbd\\xa3^\\xe1\\xf5kx\\xa5YJ\\x96\\x11Gr\\x9f\\xbe\\x8d\\\\`\\xa9\\n\\xcf\\x95\\x18\\xe0z\\xd7\\x99\\x89\\xc15^\\x14\\xe2\\xe4\\xd5e\\x15\\x0b\\xfa\\xa4\\xd75\\xf6\\xee\\xbb|\\xcf\\xcf\\xb3\\x1c\\x8a\\xb6_\\x98\\xd1\\xc2a\\x1c],d\\xefG\\xda|\\t\\xb6\\xaf\\x1d\\xedegg\\xabVM\\xea}\\x8d\\xa6\\xde>\\x87\\xa8\\xae\\xa7l\\xadwdv\\x98\\xc1,\\xd1\\x80\\x0e\\xe1\\x908U\\x03\\x19\\x00t\\xe3\\xbe+\\xdat\\x1dz\\xcd\\r\\xbd\\xdd\\xd4\\x02Az\\xb8v\\x83i\\x8e5~\\x08|\\x8c\\x92\\xa0\\x93\\xea1\\xea+\\xe5\\x1f\\x82>9o\\x11x]t\\xedU\\x15\\xeft\\xe6\\xdb,\\xc6 \\xad8n\\x0020\\xdcs\\xc0\\x04\\x9e8#\\x1cc\\xe8\\x8b\\xad\\x165\\xd3E\\xd47b\\xdf\\x18\\xf2`\\x0eX\\xa4\\xb2\\x0cG+\\xc6\\x08\\xdc\\xaa\\xc5Y\\xb2\\x00 \\x11\\xcf5\\xe0\\xd6\\xc3\\xfb\\x1cMZ5a\\x05Sv\\xdf\\xc3\\x18\\xe8\\x92\\x8d\\xd2\\xf5\\xbd\\xfat9\\x1e\\n\\xb6\\x16\\xbd\\\\=yF\\x12\\xa7RO\\x95;\\xa9\\xc9[\\x96Q\\x92\\xd1+\\xb4\\xf5\\xe9c\\xf3\\x0b\\xc62\\xbb\\x89na\\xb9\\x9d\\xaeN\\xf2]Y\\xf0\\xc9\\xb4\\x9f-\\x0eA\\x00\\x8f\\x94\\x01\\xc1\\xcfN\\x0e|\\xefK\\xb0\\xd4\\xa4\\x96\\x1b\\xb8\\x9eu\\x95\\xa4?$\\xc6B\\xa0o\\xe1\\x80<\\x028 \\x81\\x91\\x8c\\x83\\xc5z\\xae\\x93\\x14\\x1a\\x9a\\x8b]Bx\\xa01\\xa1ei\\x8ch\\x1a@\\tT\\xc9\\xe7\\x0cx\\xe3\\x07\\xb8\\x04\\xe0Wo\\x0e\\x8d\\xa7C-\\xa4( \\xb8\"\\x07r\\xf1\\x9d\\xaa\\x9bW%\\xc7@\\xe1q\\x9d\\xa4\\xfc\\xd8\\xc1\\xe2\\xbd\\xe4\\xe36\\xde\\x8b\\x9e*\\xa4\\x95\\xd2j\\xce*:-\\xb6\\xd1-7\\xb6\\xcc\\x7fZ\\x9e\\x1e\\x8f$\\xa9\\xc2\\xa4\\xa2\\xda\\xec\\xb9U\\xba\\xb4\\xaf\\xae\\xf6\\xed\\xf2>{\\xf1\\xce\\x95,\\xd6\\xb6\\xb6s]\\x16y\\n<\\x91\\xb1,\\x8a\\t\\x19m\\xa4\\x91\\xc6I\\xc9\\xe7\\xd0\\x8a\\xfc\\xfc\\xf1\\xb6\\x87o\\x1e\\xaf|\\xc5\\x8c\\x9eT\\xce\\xa8\\x15x8\\'\\x03\\x81\\xd1\\x89\\x1c\\x01\\x82:\\xf55\\xfaC\\xe3\\x87\\xb4\\xfe\\xd1\\x8d\\x84\\x81<\\x88n\\x0b\\x86\\xe4H\\xb1\\xab\\x12\\xa4\\x10\\x03\\x03\\xb4\\x80\\xa7\\x8cq\\x8f_\\x84\\xfcJ\\x129\\xaf\\xa7\\xb9\\x8dBK+\\xbc.TJ]\\xbc\\xc3\\xb5@ \\x94$\\x1cd`\\x80{\\x8e\\xbe\\x96\\x12\\x85\\xf0\\x95f\\xd3s\\x9d]\\xe2\\xdbiEE_\\xa5\\xb4wko\\x9a>\\xdf\\x80jTU1\\x15\\x13pSq\\xbcTl\\xae\\xda\\x92\\xd5-\\xb6Z\\xf6<\\xdb\\xc2Pj6\\xfe|w\\xc5P\\x96o\\xb2\\xe4\\xe3\\xf7-\\xfc\\x07=\\xd8p@\\xcek\\xdcth\\xee\\x04qG\\x12!v*Ap\\xb8\\'<`\\xb0\\xe8:\\x0e1\\x8e\\x83\\x15\\xe4vQ\\xb4\\x97\\xb6\\xfet\\xce\\x11\\xdb1\\x82\\x0e3\\xbb+\\xb8\\x13\\x8d\\xa0\\xf3\\x83\\xc7lv\\xafs\\xf0\\xc5\\xbc\\xf7\\xe8\\x85\\x0ch\"e\\x8cy\\xc4!s\\x90\\xa1\\x818\\xc2\\x92{\\x1e\\x0f\"\\xbap\\xea8zu\\x1a\\x9b\\x94\\xd5\\x94\\x94\\xae\\xa3\\xefr\\xbbZ\\xfa;j\\xb7\\xd0\\xfd+1\\x94\\xdcy\\xe5R\\x9a\\xbd\\xa58\\'h\\xa5em\\x15\\x9d\\xac\\xec\\xd5\\xbb\\xeb\\xdf\\xd1\\xac\\x0cL\\xb2\\xc9r\\x17\"\\x10\\xaev\\xf9\\x80\\xb6\\xdf\\x95\\x06s\\x93\\x9e\\x06\\x0f^\\x86\\xbfJ<\\x1d\\xe1[_\\x15|.\\xd0\\xb4}MaG\\xb8\\xb3Y\\x16i#O:\\x05<!\\x0c\\xc3r\\x8cr@##\\x8a\\xf8\\x07\\xc2Z\\x11\\xf1\\x05\\xe5\\x86\\x8f\\x04)\\x05\\xc4\\xd70\\t\\x11\\x03\\x12\\xe9\\xe7\"\\x99H\\xc6\\x18\\x0c\\x93\\x93\\xd4q\\xd0\\x8a\\xfd>\\xb4\\xb2\\xb2\\xb1\\xd3t\\xed+K\\xf3\\x9a\\xf6\\xca+Kp\\xa1?t\\xdbcB\\xe8\\x00\\x1bJ\\x06\\xc9\\xdb\\x8c\\n\\xf23|RN\\x85\\xe6\\xa9\\xd7Q\\x9c\\xe0\\xa3u{r\\xaapOd\\x9e\\xbb\\xef\\xa2\\xd5\\x9f\\x8e\\xf1n20\\xa9\\x83\\x8d95Z3uT\\xa2\\x9d\\xe0\\x92\\xb2k\\xad\\x9e\\x9du3|\\x1d\\xe0\\xab\\r\\x06\\x17\\xd2\\xb4\\xf9\\xe5a,\\xc9\\x1c\\x97F!\\x1c\\xa5\\x8b\\x05\\x05e8i\\x15I\\xc8BJ\\x9cc<\\xd7\\xb6\\x1f\\x0f\\\\\\xd9\\xeaV\\xbaz\\xdfO1\\x91\\x92T\\x9e\\xe1\\x98\\xac\\x91\\xa2\\x06x\\xc1R\\xc3*3\\xb0s\\xb7\\xa8\\xc1\\xc5d\\xeb\\xf6\\x12\\xad\\x9e\\x9fn\\x1f\\xec-\\x141\\\\Mq\\x07\\xca\\xec\\xe0\\x06\\xda\\xdb6\\x91\\x92\\x0fS\\xc7\\xe1^\\x80L\\x1aLz\\nj\\x17^o\\x9b,b\\x1b\\xd4_25\\xde\\x1713\\xe0\\xf9L\\xc0\\xe1\\x88#\\x1dO\\xbf\\xcc\\xcaU_\\xb5\\xabR7\\x94\\xa9\\xb5\\xcc\\xd3\\x94\\xb9\\xa6\\x95\\x9a\\xb3\\xb3I;\\xe9\\xf8j|\\xdd\\x1a\\xb5q\\x12\\x84\\xeb\\xd7R\\xabUI\\xc3\\xdaF-\\xbb[^\\x8bk\\xab^\\xf6\\xefc\\xf1\\x96\\xd3\\xc0\\xde\\'\\xd6\\'i\\xf5;\\xbb\\x8d.\\xd6\\xc2\\xf5%W\\xce%\\x99D\\xa1\\xd3$\\x10]p8RH#\\x8crk\\xd5\\xb5&\\xbb\\xd2\\xa0\\xb6x\\xaed\\x92\\x18a\\x8d\\x04\\xab\\x82\\xcc\\x14b@\\x14\\x1c\\xa6\\xec\\x10\\xd8\\x1dH\\xcf\\xa1n\\xa1s\\xa9\\xdc\\x8b[\\xcbi|\\xeb\\t\\xd6\\xdfj\\xa0\\'`R\\x99r\\xbft\\x15\\x00\\x9e\\x99\\xf7\\xedX\\xba\\xdd\\xdc6\\xcc\\x90\\x89$fyX\\xc4\\xdb\\xc3\\x87!2\\xc8\\xeb\\x93\\x84\\x07\\xef\\x021\\x8eq_Ie*\\xf1\\xadV0\\x849-\\xee\\xec\\xa4\\xb9n\\xac\\xaduw\\xa2~{\\xab\\x9d\\x18\\x8cULUH\\xc5\\xc2\\n\\x10m{:p\\xe5\\x8d\\x95\\xb9\\x9c\\xad\\xb3\\xbe\\xf7myk\\xa7\\x9bx\\xca7\\xd4\\xc47v\\x86I\\x03\\t#\\x9cna\\xe5\\xab\\x82\\x1d\\xc0\\x1f\\xc4\\xa0\\x928\\xceG\\x1d+\\xe4\\xcdh\\xda\\xc1{uau\\x13\\xb4k)er7m!\\xb2\\x14g\\xa0\\xcf\\xcc\\x00\\xc8#\\x923_O\\xf8\\x9b\\xc4\\x12\\xe9zd\\xf3\\xc3\\x1c{7\\xbe\\xe9J\\x02\\xa39,\\x06G\\x18\\x19\\xf9s\\xc8\\xe0\\x83\\xd2\\xbeg\\x9fY\\xb2\\xd4\\xb5\\xa8V\\xf2\\xdb)4\\xa1\\xa4x\\xd0(\\xc1p\\xa5\\xce1\\x9d\\xb9$\\x13\\x9c\\xe3\\x19\\xe6\\xbd\\x9c%H\\xd1\\x85\\x9c[\\x84\\xed$\\xd3qi\\xd9]\\xa5\\xf7~G\\xd8p\\x8b\\xad\\x85\\xa1\\x88\\xaf(\\xf3a!\\'\\xca\\xa3$\\xa5ugv\\xfa\\xab~\\xbb\\xf5\\xe5\\xac\\xad\\x91\\xafb/\\x16\\xf6\\x04\\x98\\xc9\\x1f\\xbb\\x11\\x02z\\xae0N\\x0fOo\\xcb\\xd2\\xb4{+\\xeb\\xcdF\\xc1\\xad\\x1a`\\x81\\x92?\\xb2D\\x8c\\x1eW\\xde\\x00\\xe18\\xc98\\x00\\x81\\x81\\x9c\\xe6\\xbb\\xcd\\'\\xe1[\\xea\\xd7\\x96\\x92\\xdb\\\\A\\r\\xac\\xca\\x8f\\x14\\xa5S\\x08\\xacG\\r\\xc6\\x0f`S\\x04\\x9e\\xf5\\xf6\\xa7\\xc3o\\x83Z\\x17\\x85g\\xb3\\xbe\\xbcQ\\xabjRG\\x1c\\xb1H\\xc8\\xb2[D\\xc1\\x83)\\x08\\xc1\\x94\\x15m\\xbc(\\x19\\xc1\\x1e\\x95\\xc7[\\x17E\\xc6\\xa3\\xa3y\\xb7+$\\x97_u\\xb6\\xde\\xdak\\xf8\\xa4z9\\xa7\\x18`p\\xf4\\'UNUjJ\\x1c\\xb1\\xa4\\xa1t\\x9a\\xb2\\xb3n\\xfa\\xae\\xb6\\xf3\\xb1\\xd0|\\x1c\\xf8n\\x9e\\x1b\\xb7\\xb7\\xf1_\\x88\\xad\\xa4:\\x8d\\xdd\\xaa\\xf90\\x94\\x04\\xd9\\xdb\\x95\\x04:#)*\\xc5y;pX\\xf0z\\xd7\\xd6\\xbe\\x1b\\xd2\\'\\xd6\\xae\\xd2m1\\x92\\t#Q*\\x0b\\x80\\x13\\xcc\\xdb\\xc99?\\xde\\xc6\\t\\xf75\\xc8\\xdaZ\\xde_\\xcbmiq*\\xc6\\x04%Q\\x8b8S\\n\\x8c\\x08\\xd7\\x9cd\\x00\\x04c\\xa0\\'\\xe5\\x1d1\\xeb\\x10/\\xd8\\xb4\\xb9. \\x8cAwi\\x1e\\x04\\xb1\\xc9\\xe5\\xc8Q\\x14\\x9d\\xea\\x14\\x86s\\xc6B\\xe7\\xe6\\xf7<W\\xcd\\xe3\\xeaO\\x13V\\x12|\\xd2\\xa8\\xd2\\x8c\\xbd\\xdbB)$\\x94Rzi}\\xee\\xed\\xf8\\x1f\\x94\\xbcel}J\\xd8\\x9a\\xcd\\xba\\x92\\xf8e\\xaa\\x8c#u\\xcb\\x1e^\\xd1M-7\\xf5\\xdf\\x8c\\xd7|Uq\\x06\\xa1\\x7fe\\x0e\\x9e.\\x9a\\x17\\x86\\xd2F\\x0e\\xcd\\xe6\\x96\"9J\\x13\\x9c\\xed\\xcf\\xca;s\\xc0\\xe4\\xd7m\\xa2i\\xda\\xcd\\xcd\\x9a\\xda\\xdd\\xce\\xb3[\\xea\\x12D\\xf1X\\xca\\xa6Cf\\x8eB\\xbb |\\x84!\\t\\xc9\\x18\\xe0`\\x9e\\xf5\\xe5~\\x0e:\\xae\\xbb\\xe2\\x1b\\xcb\\x87\\x88\\xbd\\x85\\xa4\\xd24\\xf2:}\\xfc1f-\\x9e\\x18\\xe0\\x1c\\x92s\\xc5})\\xe1k\\x9b\\x0b\\x99\\xcc\\x97\\x0e\\x915\\x8a\\x94P\\x8c\\x032\\x81\\x95\\x0c:\\xb6q\\xc2\\xe0\\x922\\x0f\\xa5pT\\x94\\xd5E\\x16\\xa4\\xe3\\x0eH\\xde\\r\\xaf}\\xa4\\xd2kgk\\xe8\\xba\\xed\\xa9\\xd5J\\x93\\x8c\\x1c\\xaar\\xfb\\xadr\\xea\\xa5nn[]\\xfd\\x96\\xbf\\x1b\\xdc\\xfco\\xf0o\\x88/U%\\xf0\\xb3m\\xbb\\xbc\\x8bt\\x10\\xbb0$\\x17M\\xcb\\xc99\\x03\\x04\\x0e\\xbd8\\xf4\\xaf\\x01}W\\xc4\\x1aW\\x8f\\xde\\xcbZ/<Q\\\\L\\xbeJ;\\x98\\xa3\\x86w\\xda\\xee\\xc3%\\x1d\\x95\\t\\x07<\\xf5\\x1e\\xa0d\\xeb\\xdf\\x11/|\\x15\\xaf^^\\xe9\\xb6\\xdfi\\xd4\\x96\\x08\\x95\\x1fy|\\xccc\\x08\\x8eFI]\\xc7j\\xb1\\xe0\\xed\\xc8\\xc9\\x15\\x0f\\x83u\\xadc\\xc5\\xda\\x86\\xa5\\xadk6\\xecgEi[\\xccB\\x04\\x7f\\xc7\\x90\\xec\\x0b8Ld\\x0c\\x9c\\x80\\x07\\xad},\\xebB\\x0e\\xad\\x15\\x18\\xbf\\xde\\xfc-\\xf3Z-F\\xf2]U\\x9fn\\x9b\\x9fe\\x0c\\xbeXG\\x8c\\xae\\xe9BTq\\x11j1\\x92\\xf7\\xf9\\xdb\\xb7<t\\xf7R\\xde\\xdeZ\\xab\\x1d\\xb7\\x89Q\\xb5]\\x1a\\xfa\\xca8\\x99\\x14\\xc8e\\x84c\\xaeA *\\x9e\\x0ez\\x11\\xc0 ~\\x15\\xe0\\xfag\\x81\\xb5\\xfb\\xadb\\x14i\\x168\\x0c\\xa3\\xe7\\x90\\xaa\\x94\\x8c\\xb8\\xdcO9\\n\\x14\\x92@\\xe83\\xde\\xbe\\x94\\x82\\xf5olg\\x94[\\x18\\xd7\\xe6\\x85\\x03(%\\x9dAP\\xf1\\x83\\xd3\\x04\\xe4s\\xdf\\x8a\\xf3\\x8d{G\\xd4\\x12I/m\\xefe\\xb4\\x91Q\\xca\\xa0P\\x8d\\x80\\xa4\\x9c(#\\'\\x1d\\x8f^\\x06+\\xb2\\x94\\x94h\\xfb\\xf5~\\x18\\xbeW\\x15w\\x15ut\\xd6\\xfd\\xd5\\xff\\x00R\\xb2\\xac\\\\\\xb0t+a%h\\xaa\\xb7qN7\\xb3n);%\\xa3\\xeb\\xbd\\xd5\\xf4W=\\x8f\\xc1\\xdfb[\\x984X\\xb5\\x15\\x96\\xe6\\xd4@$E;\\x90\\x10W$\\x0c\\xedS\\xc7Q\\x8c\\x0c\\x9a\\xfbw\\xc0\\xfa\\x84VzZ\\xdf\\xea1\\xa5\\xc40\\x95[b\\xc4\\x1cI\\x17*0\\xfcrTq\\xd0\\x8c\\xe4\\xf3_\\n|\\x03\\xd2t\\xddGP\\x9e\\xe2\\xe4\\xbf\\xdb\\xd9\\xb6\\xde\\xdcJ\\xed\\xbdUX\\x02P\\x03\\xf2\\x96\\\\\\xe0\\x12\\xa3=k\\xed+\\xf8!\\xb7\\xd1\\xae\\xf4\\xbb(\\x0c`\\xa8\\x92\\xd6Eps&\\xd3\\xf7#\\xfb\\xa8\\xce\\xddN\\x06I\\xc9\\xaf>\\x9d%\\x8a\\x92\\xf62p\\x87\\xc3\\xcdg\\xcd\\xa2N\\xedt\\xd7\\x7f%\\xabZ\\xdf\\xe5\\xb3<4j\\xe2V\\x1e\\x94\\xa5\\'\\xcf\\xcf7%\\xca\\xe7\\xcc\\xd5\\xd4RK\\x95on\\xea\\xefSGT\\xf8\\xed\\xe1\\xfd\"\\xe6\\xd7O\\xb8I.n\\xdef\\xdb\\x04p\\xa0dB\\xd8\\x1f8\\x1b\\x88Q\\x80\\x00\\xec0\\x07J\\xf6?\\x07|B\\xd0\\xbcIuo\\x13Y\\xcf<\\x92\\xacj\\x96\\xc9!]\\x9b\\x88\\n\\xf2\\'\\x00\\x80H$\\xb0\\xc63\\x9e\\r~ix\\x99\\x8e\\x9f\\xe2\\xab[\\xe3\\x1bMqo\\xc9I\\x90\\xb7\\xce\\x8c\\x18*\\x8e@b@\\x198\\x04\\x8epO\\x1fA|\\x1d\\xf1\\x85\\xa5\\x9e\\xb3q\\xae\\xcc\\xfeL\\x06$\\x8c\\xc7\\'\\x067\\\\\\x16\\x08\\x0fD\\'9P\\x00#<\\x1c\\xf3\\xcd5\\xec\\xe7?}\\xd4k}.\\x9bvM\\xabt_.\\xda\\xee\\xe2\\xbeZ\\xb0\\xd8v\\xe0\\xa5\\xcd\\x14\\x93I\\xddM\\xbe[C]u\\xdd[oC\\xf47V\\xfe\\xcb\\xf0\\xee\\x97,\\x9a\\x0e\\x9a-\\x84\\xc8e\\xbeI\\x15A\\x90\\xba\\x92\\xc0\\xe0\\x02\\xe0\\x83\\x8c6z\\x8f\\xc7\\xe6+\\xdf\\x8b\\r\\xe1\\xab\\xdb\\xeb\\xb0\\x9f$\\xd2\\xb1\\xe5\\xd8\\xaa\\x18\\xceH\\xda\\x0e01\\xc8\\x18\\x07\\x91\\xf5\\xba~6\\xd9j\\x93^Z\\xdc\\xbbJ\\x96\\xf1J\\xa1$\\xcb,\\x83kl\\xc8bW\\x03\\xe5\\xc6F\\x17\\xa8\\xc5|1\\xf1\\'\\xe2}\\xbd\\xbe\\xa1%\\x9a\\xdb9G\\xbeg}\\xab\\xb8\\x08\\xe4\\x93\\x92\\x08<pO|t\\xf58p\\xc3)\\xd3\\x94*EFm\\xf3F\\xac[\\xb3M\\xc7w\\xbf2\\xdb\\xca\\xe7\\xa7\\x90\\xe0%\\x8a\\xa7Z5\\xa8\\xb9J<\\xbc\\xd1\\x95\\xed\\xad\\xac\\xee\\xfa\\xf9\\xde\\xdb\\xea\\x7f\\xff\\xd9', shape=(), dtype=string)\n",
            "1\n"
          ],
          "name": "stdout"
        },
        {
          "output_type": "display_data",
          "data": {
            "image/jpeg": "[encoded data removed]",
            "text/plain": [
              "<IPython.core.display.Image object>"
            ]
          },
          "metadata": {
            "tags": []
          }
        }
      ]
    }
  ]
}