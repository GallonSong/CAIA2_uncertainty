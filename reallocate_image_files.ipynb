{
  "nbformat": 4,
  "nbformat_minor": 0,
  "metadata": {
    "colab": {
      "name": "reallocate_image_files.ipynb",
      "provenance": [],
      "collapsed_sections": [],
      "toc_visible": true
    },
    "kernelspec": {
      "name": "python3",
      "display_name": "Python 3"
    }
  },
  "cells": [
    {
      "cell_type": "code",
      "metadata": {
        "id": "KqpTkEHuUV6j",
        "colab_type": "code",
        "colab": {
          "base_uri": "https://localhost:8080/",
          "height": 34
        },
        "outputId": "d4f1c194-88bd-4d7c-d2d4-a456b5dfe3c2"
      },
      "source": [
        "from google.colab import drive\n",
        "drive.mount('/content/drive', force_remount=True)"
      ],
      "execution_count": 23,
      "outputs": [
        {
          "output_type": "stream",
          "text": [
            "Mounted at /content/drive\n"
          ],
          "name": "stdout"
        }
      ]
    },
    {
      "cell_type": "code",
      "metadata": {
        "id": "ZzngPgmaJe3c",
        "colab_type": "code",
        "colab": {}
      },
      "source": [
        "!cat /content/drive/My\\ Drive/master_uppsala/p3_computer-assisted_image_analysis_2_project/OralCancer_DataSet3/train/reallocate_file.sh"
      ],
      "execution_count": 0,
      "outputs": []
    },
    {
      "cell_type": "code",
      "metadata": {
        "id": "5JAxo364U79B",
        "colab_type": "code",
        "colab": {}
      },
      "source": [
        "!cd /content/drive/My\\ Drive/master_uppsala/p3_computer-assisted_image_analysis_2_project/OralCancer_DataSet3/train/ && sh ./reallocate_file.sh"
      ],
      "execution_count": 0,
      "outputs": []
    },
    {
      "cell_type": "code",
      "metadata": {
        "id": "U06koKUFF2Zu",
        "colab_type": "code",
        "colab": {
          "base_uri": "https://localhost:8080/",
          "height": 34
        },
        "outputId": "82ad773e-09c7-46bd-8d60-43c6b493e331"
      },
      "source": [
        "!ls /content/drive/My\\ Drive/master_uppsala/p3_computer-assisted_image_analysis_2_project/OralCancer_DataSet3/train/Healthy/050 | wc -l"
      ],
      "execution_count": 42,
      "outputs": [
        {
          "output_type": "stream",
          "text": [
            "850\n"
          ],
          "name": "stdout"
        }
      ]
    }
  ]
}